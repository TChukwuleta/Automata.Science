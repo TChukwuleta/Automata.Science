{
 "cells": [
  {
   "cell_type": "code",
   "execution_count": 1,
   "metadata": {},
   "outputs": [],
   "source": [
    "import pandas as pd\n",
    "import numpy as np\n",
    "import matplotlib.pyplot as plt\n",
    "import json\n",
    "import csv"
   ]
  },
  {
   "cell_type": "code",
   "execution_count": 2,
   "metadata": {},
   "outputs": [
    {
     "name": "stdout",
     "output_type": "stream",
     "text": [
      "HI 100\n",
      "100\n"
     ]
    }
   ],
   "source": [
    "f = open('som1.csv','a',encoding='utf-8')\n",
    "csvWriter = csv.writer(f)\n",
    "headers=['full_text','retweet_count','user_followers_count','favorite_count','place','coordinates','geo','created_at','id_str']\n",
    "csvWriter.writerow(headers)\n",
    "\n",
    "for inputFile in ['AS1_30_03_20.txt']:#all the text-file names you want to convert to Csv in the sae folder as this code\n",
    "    tweets = []\n",
    "    for line in open(inputFile, 'r'):\n",
    "        tweets.append(json.loads(line))\n",
    "\n",
    "    print('HI',len(tweets))\n",
    "    count_lines=0\n",
    "    for tweet in tweets:\n",
    "        try:\n",
    "            csvWriter.writerow([tweet['full_text'],tweet['retweet_count'],tweet['user']['followers_count'],tweet['favorite_count'],tweet['place'],tweet['coordinates'],tweet['geo'],tweet['created_at'],str(tweet['id_str'])])\n",
    "            count_lines+=1\n",
    "        except Exception as e:\n",
    "            print(e)\n",
    "    print(count_lines)"
   ]
  },
  {
   "cell_type": "code",
   "execution_count": 3,
   "metadata": {},
   "outputs": [
    {
     "data": {
      "text/html": [
       "<div>\n",
       "<style scoped>\n",
       "    .dataframe tbody tr th:only-of-type {\n",
       "        vertical-align: middle;\n",
       "    }\n",
       "\n",
       "    .dataframe tbody tr th {\n",
       "        vertical-align: top;\n",
       "    }\n",
       "\n",
       "    .dataframe thead th {\n",
       "        text-align: right;\n",
       "    }\n",
       "</style>\n",
       "<table border=\"1\" class=\"dataframe\">\n",
       "  <thead>\n",
       "    <tr style=\"text-align: right;\">\n",
       "      <th></th>\n",
       "      <th>full_text</th>\n",
       "      <th>retweet_count</th>\n",
       "      <th>user_followers_count</th>\n",
       "      <th>favorite_count</th>\n",
       "      <th>place</th>\n",
       "      <th>coordinates</th>\n",
       "      <th>geo</th>\n",
       "      <th>created_at</th>\n",
       "      <th>id_str</th>\n",
       "    </tr>\n",
       "  </thead>\n",
       "  <tbody>\n",
       "    <tr>\n",
       "      <td>0</td>\n",
       "      <td>full_text</td>\n",
       "      <td>retweet_count</td>\n",
       "      <td>user_followers_count</td>\n",
       "      <td>favorite_count</td>\n",
       "      <td>place</td>\n",
       "      <td>coordinates</td>\n",
       "      <td>geo</td>\n",
       "      <td>created_at</td>\n",
       "      <td>id_str</td>\n",
       "    </tr>\n",
       "    <tr>\n",
       "      <td>1</td>\n",
       "      <td>full_text</td>\n",
       "      <td>retweet_count</td>\n",
       "      <td>user_followers_count</td>\n",
       "      <td>favorite_count</td>\n",
       "      <td>place</td>\n",
       "      <td>coordinates</td>\n",
       "      <td>geo</td>\n",
       "      <td>created_at</td>\n",
       "      <td>id_str</td>\n",
       "    </tr>\n",
       "    <tr>\n",
       "      <td>2</td>\n",
       "      <td>RJ went shopping, came home with flowers, I as...</td>\n",
       "      <td>0</td>\n",
       "      <td>148</td>\n",
       "      <td>0</td>\n",
       "      <td>{'attributes': {}, 'bounding_box': {'coordinat...</td>\n",
       "      <td>NaN</td>\n",
       "      <td>NaN</td>\n",
       "      <td>Mon Mar 30 18:51:28 +0000 2020</td>\n",
       "      <td>1244698776473870336</td>\n",
       "    </tr>\n",
       "    <tr>\n",
       "      <td>3</td>\n",
       "      <td>RT @_teazzy_: #TheLockdown Seyi Makinde #Trade...</td>\n",
       "      <td>23</td>\n",
       "      <td>926</td>\n",
       "      <td>0</td>\n",
       "      <td>NaN</td>\n",
       "      <td>NaN</td>\n",
       "      <td>NaN</td>\n",
       "      <td>Mon Mar 30 18:51:27 +0000 2020</td>\n",
       "      <td>1244698772032163840</td>\n",
       "    </tr>\n",
       "    <tr>\n",
       "      <td>4</td>\n",
       "      <td>RT @IamReallG: Here in Witbank Ezinambeni nyao...</td>\n",
       "      <td>8</td>\n",
       "      <td>55228</td>\n",
       "      <td>0</td>\n",
       "      <td>NaN</td>\n",
       "      <td>NaN</td>\n",
       "      <td>NaN</td>\n",
       "      <td>Mon Mar 30 18:51:26 +0000 2020</td>\n",
       "      <td>1244698768844488706</td>\n",
       "    </tr>\n",
       "  </tbody>\n",
       "</table>\n",
       "</div>"
      ],
      "text/plain": [
       "                                           full_text  retweet_count  \\\n",
       "0                                          full_text  retweet_count   \n",
       "1                                          full_text  retweet_count   \n",
       "2  RJ went shopping, came home with flowers, I as...              0   \n",
       "3  RT @_teazzy_: #TheLockdown Seyi Makinde #Trade...             23   \n",
       "4  RT @IamReallG: Here in Witbank Ezinambeni nyao...              8   \n",
       "\n",
       "   user_followers_count  favorite_count  \\\n",
       "0  user_followers_count  favorite_count   \n",
       "1  user_followers_count  favorite_count   \n",
       "2                   148               0   \n",
       "3                   926               0   \n",
       "4                 55228               0   \n",
       "\n",
       "                                               place  coordinates  geo  \\\n",
       "0                                              place  coordinates  geo   \n",
       "1                                              place  coordinates  geo   \n",
       "2  {'attributes': {}, 'bounding_box': {'coordinat...          NaN  NaN   \n",
       "3                                                NaN          NaN  NaN   \n",
       "4                                                NaN          NaN  NaN   \n",
       "\n",
       "                       created_at               id_str  \n",
       "0                      created_at               id_str  \n",
       "1                      created_at               id_str  \n",
       "2  Mon Mar 30 18:51:28 +0000 2020  1244698776473870336  \n",
       "3  Mon Mar 30 18:51:27 +0000 2020  1244698772032163840  \n",
       "4  Mon Mar 30 18:51:26 +0000 2020  1244698768844488706  "
      ]
     },
     "execution_count": 3,
     "metadata": {},
     "output_type": "execute_result"
    }
   ],
   "source": [
    "import pandas as pd\n",
    "df = pd.read_csv('som1.csv', encoding = 'unicode_escape')\n",
    "df.head(5)"
   ]
  },
  {
   "cell_type": "code",
   "execution_count": 4,
   "metadata": {},
   "outputs": [
    {
     "name": "stdout",
     "output_type": "stream",
     "text": [
      "173\n",
      "72\n",
      "84\n"
     ]
    }
   ],
   "source": [
    "print(len(df.index))#72 total no of rows in the dataset\n",
    "serlis=df.duplicated().tolist()\n",
    "print(serlis.count(True))#1\n",
    "serlis=df.duplicated(['full_text']).tolist()\n",
    "print(serlis.count(True))#10"
   ]
  },
  {
   "cell_type": "code",
   "execution_count": 5,
   "metadata": {},
   "outputs": [],
   "source": [
    "df=df.drop_duplicates(['full_text'])"
   ]
  },
  {
   "cell_type": "code",
   "execution_count": 6,
   "metadata": {},
   "outputs": [
    {
     "name": "stdout",
     "output_type": "stream",
     "text": [
      "88\n",
      "82\n",
      "88\n"
     ]
    }
   ],
   "source": [
    "print(df['geo'].isna().sum())\n",
    "print(df['place'].isna().sum())\n",
    "print(df['coordinates'].isna().sum())"
   ]
  },
  {
   "cell_type": "code",
   "execution_count": 7,
   "metadata": {},
   "outputs": [
    {
     "data": {
      "text/html": [
       "<div>\n",
       "<style scoped>\n",
       "    .dataframe tbody tr th:only-of-type {\n",
       "        vertical-align: middle;\n",
       "    }\n",
       "\n",
       "    .dataframe tbody tr th {\n",
       "        vertical-align: top;\n",
       "    }\n",
       "\n",
       "    .dataframe thead th {\n",
       "        text-align: right;\n",
       "    }\n",
       "</style>\n",
       "<table border=\"1\" class=\"dataframe\">\n",
       "  <thead>\n",
       "    <tr style=\"text-align: right;\">\n",
       "      <th></th>\n",
       "      <th>full_text</th>\n",
       "      <th>retweet_count</th>\n",
       "      <th>user_followers_count</th>\n",
       "      <th>favorite_count</th>\n",
       "      <th>created_at</th>\n",
       "    </tr>\n",
       "  </thead>\n",
       "  <tbody>\n",
       "    <tr>\n",
       "      <td>0</td>\n",
       "      <td>full_text</td>\n",
       "      <td>retweet_count</td>\n",
       "      <td>user_followers_count</td>\n",
       "      <td>favorite_count</td>\n",
       "      <td>created_at</td>\n",
       "    </tr>\n",
       "    <tr>\n",
       "      <td>2</td>\n",
       "      <td>RJ went shopping, came home with flowers, I as...</td>\n",
       "      <td>0</td>\n",
       "      <td>148</td>\n",
       "      <td>0</td>\n",
       "      <td>Mon Mar 30 18:51:28 +0000 2020</td>\n",
       "    </tr>\n",
       "    <tr>\n",
       "      <td>3</td>\n",
       "      <td>RT @_teazzy_: #TheLockdown Seyi Makinde #Trade...</td>\n",
       "      <td>23</td>\n",
       "      <td>926</td>\n",
       "      <td>0</td>\n",
       "      <td>Mon Mar 30 18:51:27 +0000 2020</td>\n",
       "    </tr>\n",
       "    <tr>\n",
       "      <td>4</td>\n",
       "      <td>RT @IamReallG: Here in Witbank Ezinambeni nyao...</td>\n",
       "      <td>8</td>\n",
       "      <td>55228</td>\n",
       "      <td>0</td>\n",
       "      <td>Mon Mar 30 18:51:26 +0000 2020</td>\n",
       "    </tr>\n",
       "    <tr>\n",
       "      <td>5</td>\n",
       "      <td>So when all this shite is over and done with w...</td>\n",
       "      <td>0</td>\n",
       "      <td>1982</td>\n",
       "      <td>0</td>\n",
       "      <td>Mon Mar 30 18:51:26 +0000 2020</td>\n",
       "    </tr>\n",
       "  </tbody>\n",
       "</table>\n",
       "</div>"
      ],
      "text/plain": [
       "                                           full_text  retweet_count  \\\n",
       "0                                          full_text  retweet_count   \n",
       "2  RJ went shopping, came home with flowers, I as...              0   \n",
       "3  RT @_teazzy_: #TheLockdown Seyi Makinde #Trade...             23   \n",
       "4  RT @IamReallG: Here in Witbank Ezinambeni nyao...              8   \n",
       "5  So when all this shite is over and done with w...              0   \n",
       "\n",
       "   user_followers_count  favorite_count                      created_at  \n",
       "0  user_followers_count  favorite_count                      created_at  \n",
       "2                   148               0  Mon Mar 30 18:51:28 +0000 2020  \n",
       "3                   926               0  Mon Mar 30 18:51:27 +0000 2020  \n",
       "4                 55228               0  Mon Mar 30 18:51:26 +0000 2020  \n",
       "5                  1982               0  Mon Mar 30 18:51:26 +0000 2020  "
      ]
     },
     "execution_count": 7,
     "metadata": {},
     "output_type": "execute_result"
    }
   ],
   "source": [
    "df = df.drop(['place', 'coordinates', 'geo', 'id_str'], axis = 1)\n",
    "df.head()"
   ]
  },
  {
   "cell_type": "code",
   "execution_count": 8,
   "metadata": {},
   "outputs": [
    {
     "data": {
      "text/plain": [
       "'RT @ayemojubar: #TheLockdown: Someone should help me call LAWMA? ð\\x9f¤£ð\\x9f\\x98\\x82\\r\\nhttps://t.co/XW0TGExXni'"
      ]
     },
     "execution_count": 8,
     "metadata": {},
     "output_type": "execute_result"
    }
   ],
   "source": [
    "df['full_text'][22]"
   ]
  },
  {
   "cell_type": "code",
   "execution_count": 9,
   "metadata": {},
   "outputs": [],
   "source": [
    "import re\n",
    "for i in range(len(df)):\n",
    "    txt = df.iloc[i][\"full_text\"]\n",
    "    txt=re.sub(r'@[A-Z0-9a-z_:]+','',txt)#replace username-tags\n",
    "    txt=re.sub(r'^[RT]+','',txt)#replace RT-tags\n",
    "    txt = re.sub('https?://[A-Za-z0-9./]+','',txt)#replace URLs\n",
    "    txt=re.sub(\"[^a-zA-Z]\", \" \",txt)#replace hashtags\n",
    "    df.at[i,\"full_text\"]=txt"
   ]
  },
  {
   "cell_type": "code",
   "execution_count": 10,
   "metadata": {},
   "outputs": [
    {
     "name": "stdout",
     "output_type": "stream",
     "text": [
      "  Those who still ponder how to get their means of survival are also in your hands      You know end from beginning  and If you c   \n"
     ]
    }
   ],
   "source": [
    "print(df['full_text'][15])"
   ]
  },
  {
   "cell_type": "code",
   "execution_count": 23,
   "metadata": {},
   "outputs": [
    {
     "name": "stderr",
     "output_type": "stream",
     "text": [
      "[nltk_data] Downloading package stopwords to C:\\Users\\Tobechi\n",
      "[nltk_data]     Chukwuleta\\AppData\\Roaming\\nltk_data...\n",
      "[nltk_data]   Package stopwords is already up-to-date!\n",
      "[nltk_data] Downloading package punkt to C:\\Users\\Tobechi\n",
      "[nltk_data]     Chukwuleta\\AppData\\Roaming\\nltk_data...\n",
      "[nltk_data]   Package punkt is already up-to-date!\n",
      "[nltk_data] Downloading package wordnet to C:\\Users\\Tobechi\n",
      "[nltk_data]     Chukwuleta\\AppData\\Roaming\\nltk_data...\n",
      "[nltk_data]   Unzipping corpora\\wordnet.zip.\n"
     ]
    }
   ],
   "source": [
    "import nltk\n",
    "nltk.download('stopwords')\n",
    "nltk.download('punkt')\n",
    "nltk.download('wordnet')\n",
    "from nltk.corpus import stopwords\n",
    "from nltk.stem import WordNetLemmatizer\n",
    "from nltk.stem import PorterStemmer\n",
    "pstem = PorterStemmer()\n",
    "lem = WordNetLemmatizer()\n",
    "\n",
    "stop_words = set(stopwords.words('english')) \n",
    "\n",
    "\n",
    "for i in range(len(df.index)):\n",
    "    text = df.iloc[i]['full_text']\n",
    "    tokens = nltk.word_tokenize(text)\n",
    "    tokens = [word for word in tokens if word not in stop_words]\n",
    "    for j in range(len(tokens)):\n",
    "        tokens[j] = lem.lemmatize(tokens[j])\n",
    "        tokens[j] = pstem.stem(tokens[j])\n",
    "    \n",
    "    \n",
    "\n",
    "tokens_sent=' '.join(tokens)\n",
    "df.at[i,\"full_text\"] = tokens_sent"
   ]
  },
  {
   "cell_type": "code",
   "execution_count": null,
   "metadata": {},
   "outputs": [],
   "source": []
  }
 ],
 "metadata": {
  "kernelspec": {
   "display_name": "Python 3",
   "language": "python",
   "name": "python3"
  },
  "language_info": {
   "codemirror_mode": {
    "name": "ipython",
    "version": 3
   },
   "file_extension": ".py",
   "mimetype": "text/x-python",
   "name": "python",
   "nbconvert_exporter": "python",
   "pygments_lexer": "ipython3",
   "version": "3.7.4"
  }
 },
 "nbformat": 4,
 "nbformat_minor": 2
}
